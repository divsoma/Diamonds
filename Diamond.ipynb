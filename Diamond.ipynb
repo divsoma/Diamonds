{
  "nbformat": 4,
  "nbformat_minor": 0,
  "metadata": {
    "colab": {
      "name": "Diamond.ipynb",
      "provenance": []
    },
    "kernelspec": {
      "name": "python3",
      "display_name": "Python 3"
    },
    "language_info": {
      "name": "python"
    }
  },
  "cells": [
    {
      "cell_type": "markdown",
      "metadata": {
        "id": "AEqFpjoUUGNt"
      },
      "source": [
        "#How to build a Single Neuron Regression Model using Tensorflow from Scratch"
      ]
    },
    {
      "cell_type": "code",
      "metadata": {
        "id": "mLRyKrbopYso"
      },
      "source": [
        "import numpy as np\n",
        "import pandas as pd\n",
        "import matplotlib.pyplot as plt\n",
        "\n",
        "from sklearn.model_selection import train_test_split\n",
        "import tensorflow as tf"
      ],
      "execution_count": 1,
      "outputs": []
    },
    {
      "cell_type": "code",
      "metadata": {
        "colab": {
          "base_uri": "https://localhost:8080/",
          "height": 203
        },
        "id": "NLfffY2lpq7K",
        "outputId": "260310e4-9a3b-44f5-f456-fb336889cf07"
      },
      "source": [
        "df=pd.read_csv(\"diamonds.csv\")\n",
        "df.head()"
      ],
      "execution_count": 2,
      "outputs": [
        {
          "output_type": "execute_result",
          "data": {
            "text/html": [
              "<div>\n",
              "<style scoped>\n",
              "    .dataframe tbody tr th:only-of-type {\n",
              "        vertical-align: middle;\n",
              "    }\n",
              "\n",
              "    .dataframe tbody tr th {\n",
              "        vertical-align: top;\n",
              "    }\n",
              "\n",
              "    .dataframe thead th {\n",
              "        text-align: right;\n",
              "    }\n",
              "</style>\n",
              "<table border=\"1\" class=\"dataframe\">\n",
              "  <thead>\n",
              "    <tr style=\"text-align: right;\">\n",
              "      <th></th>\n",
              "      <th>Unnamed: 0</th>\n",
              "      <th>carat</th>\n",
              "      <th>cut</th>\n",
              "      <th>color</th>\n",
              "      <th>clarity</th>\n",
              "      <th>depth</th>\n",
              "      <th>table</th>\n",
              "      <th>price</th>\n",
              "      <th>x</th>\n",
              "      <th>y</th>\n",
              "      <th>z</th>\n",
              "    </tr>\n",
              "  </thead>\n",
              "  <tbody>\n",
              "    <tr>\n",
              "      <th>0</th>\n",
              "      <td>1</td>\n",
              "      <td>0.23</td>\n",
              "      <td>Ideal</td>\n",
              "      <td>E</td>\n",
              "      <td>SI2</td>\n",
              "      <td>61.5</td>\n",
              "      <td>55.0</td>\n",
              "      <td>326</td>\n",
              "      <td>3.95</td>\n",
              "      <td>3.98</td>\n",
              "      <td>2.43</td>\n",
              "    </tr>\n",
              "    <tr>\n",
              "      <th>1</th>\n",
              "      <td>2</td>\n",
              "      <td>0.21</td>\n",
              "      <td>Premium</td>\n",
              "      <td>E</td>\n",
              "      <td>SI1</td>\n",
              "      <td>59.8</td>\n",
              "      <td>61.0</td>\n",
              "      <td>326</td>\n",
              "      <td>3.89</td>\n",
              "      <td>3.84</td>\n",
              "      <td>2.31</td>\n",
              "    </tr>\n",
              "    <tr>\n",
              "      <th>2</th>\n",
              "      <td>3</td>\n",
              "      <td>0.23</td>\n",
              "      <td>Good</td>\n",
              "      <td>E</td>\n",
              "      <td>VS1</td>\n",
              "      <td>56.9</td>\n",
              "      <td>65.0</td>\n",
              "      <td>327</td>\n",
              "      <td>4.05</td>\n",
              "      <td>4.07</td>\n",
              "      <td>2.31</td>\n",
              "    </tr>\n",
              "    <tr>\n",
              "      <th>3</th>\n",
              "      <td>4</td>\n",
              "      <td>0.29</td>\n",
              "      <td>Premium</td>\n",
              "      <td>I</td>\n",
              "      <td>VS2</td>\n",
              "      <td>62.4</td>\n",
              "      <td>58.0</td>\n",
              "      <td>334</td>\n",
              "      <td>4.20</td>\n",
              "      <td>4.23</td>\n",
              "      <td>2.63</td>\n",
              "    </tr>\n",
              "    <tr>\n",
              "      <th>4</th>\n",
              "      <td>5</td>\n",
              "      <td>0.31</td>\n",
              "      <td>Good</td>\n",
              "      <td>J</td>\n",
              "      <td>SI2</td>\n",
              "      <td>63.3</td>\n",
              "      <td>58.0</td>\n",
              "      <td>335</td>\n",
              "      <td>4.34</td>\n",
              "      <td>4.35</td>\n",
              "      <td>2.75</td>\n",
              "    </tr>\n",
              "  </tbody>\n",
              "</table>\n",
              "</div>"
            ],
            "text/plain": [
              "   Unnamed: 0  carat      cut color clarity  ...  table  price     x     y     z\n",
              "0           1   0.23    Ideal     E     SI2  ...   55.0    326  3.95  3.98  2.43\n",
              "1           2   0.21  Premium     E     SI1  ...   61.0    326  3.89  3.84  2.31\n",
              "2           3   0.23     Good     E     VS1  ...   65.0    327  4.05  4.07  2.31\n",
              "3           4   0.29  Premium     I     VS2  ...   58.0    334  4.20  4.23  2.63\n",
              "4           5   0.31     Good     J     SI2  ...   58.0    335  4.34  4.35  2.75\n",
              "\n",
              "[5 rows x 11 columns]"
            ]
          },
          "metadata": {},
          "execution_count": 2
        }
      ]
    },
    {
      "cell_type": "code",
      "metadata": {
        "id": "SutWs3uEqBzS"
      },
      "source": [
        "df=df.drop([\"Unnamed: 0\"],axis=1)"
      ],
      "execution_count": 4,
      "outputs": []
    },
    {
      "cell_type": "code",
      "metadata": {
        "id": "enjg8vEzqmDK"
      },
      "source": [
        "from sklearn.preprocessing import LabelEncoder\n",
        "le=LabelEncoder()\n",
        "df[\"color\"]=le.fit_transform(df[\"color\"])\n",
        "df[\"cut\"]=le.fit_transform(df[\"cut\"])\n",
        "df[\"clarity\"]=le.fit_transform(df[\"clarity\"])"
      ],
      "execution_count": 5,
      "outputs": []
    },
    {
      "cell_type": "code",
      "metadata": {
        "colab": {
          "base_uri": "https://localhost:8080/",
          "height": 205
        },
        "id": "AxNi_1VgrNl3",
        "outputId": "52cbb41e-7dad-4479-d290-b3ca6c517c23"
      },
      "source": [
        "df.head()"
      ],
      "execution_count": 6,
      "outputs": [
        {
          "output_type": "execute_result",
          "data": {
            "text/html": [
              "<div>\n",
              "<style scoped>\n",
              "    .dataframe tbody tr th:only-of-type {\n",
              "        vertical-align: middle;\n",
              "    }\n",
              "\n",
              "    .dataframe tbody tr th {\n",
              "        vertical-align: top;\n",
              "    }\n",
              "\n",
              "    .dataframe thead th {\n",
              "        text-align: right;\n",
              "    }\n",
              "</style>\n",
              "<table border=\"1\" class=\"dataframe\">\n",
              "  <thead>\n",
              "    <tr style=\"text-align: right;\">\n",
              "      <th></th>\n",
              "      <th>carat</th>\n",
              "      <th>cut</th>\n",
              "      <th>color</th>\n",
              "      <th>clarity</th>\n",
              "      <th>depth</th>\n",
              "      <th>table</th>\n",
              "      <th>price</th>\n",
              "      <th>x</th>\n",
              "      <th>y</th>\n",
              "      <th>z</th>\n",
              "    </tr>\n",
              "  </thead>\n",
              "  <tbody>\n",
              "    <tr>\n",
              "      <th>0</th>\n",
              "      <td>0.23</td>\n",
              "      <td>2</td>\n",
              "      <td>1</td>\n",
              "      <td>3</td>\n",
              "      <td>61.5</td>\n",
              "      <td>55.0</td>\n",
              "      <td>326</td>\n",
              "      <td>3.95</td>\n",
              "      <td>3.98</td>\n",
              "      <td>2.43</td>\n",
              "    </tr>\n",
              "    <tr>\n",
              "      <th>1</th>\n",
              "      <td>0.21</td>\n",
              "      <td>3</td>\n",
              "      <td>1</td>\n",
              "      <td>2</td>\n",
              "      <td>59.8</td>\n",
              "      <td>61.0</td>\n",
              "      <td>326</td>\n",
              "      <td>3.89</td>\n",
              "      <td>3.84</td>\n",
              "      <td>2.31</td>\n",
              "    </tr>\n",
              "    <tr>\n",
              "      <th>2</th>\n",
              "      <td>0.23</td>\n",
              "      <td>1</td>\n",
              "      <td>1</td>\n",
              "      <td>4</td>\n",
              "      <td>56.9</td>\n",
              "      <td>65.0</td>\n",
              "      <td>327</td>\n",
              "      <td>4.05</td>\n",
              "      <td>4.07</td>\n",
              "      <td>2.31</td>\n",
              "    </tr>\n",
              "    <tr>\n",
              "      <th>3</th>\n",
              "      <td>0.29</td>\n",
              "      <td>3</td>\n",
              "      <td>5</td>\n",
              "      <td>5</td>\n",
              "      <td>62.4</td>\n",
              "      <td>58.0</td>\n",
              "      <td>334</td>\n",
              "      <td>4.20</td>\n",
              "      <td>4.23</td>\n",
              "      <td>2.63</td>\n",
              "    </tr>\n",
              "    <tr>\n",
              "      <th>4</th>\n",
              "      <td>0.31</td>\n",
              "      <td>1</td>\n",
              "      <td>6</td>\n",
              "      <td>3</td>\n",
              "      <td>63.3</td>\n",
              "      <td>58.0</td>\n",
              "      <td>335</td>\n",
              "      <td>4.34</td>\n",
              "      <td>4.35</td>\n",
              "      <td>2.75</td>\n",
              "    </tr>\n",
              "  </tbody>\n",
              "</table>\n",
              "</div>"
            ],
            "text/plain": [
              "   carat  cut  color  clarity  depth  table  price     x     y     z\n",
              "0   0.23    2      1        3   61.5   55.0    326  3.95  3.98  2.43\n",
              "1   0.21    3      1        2   59.8   61.0    326  3.89  3.84  2.31\n",
              "2   0.23    1      1        4   56.9   65.0    327  4.05  4.07  2.31\n",
              "3   0.29    3      5        5   62.4   58.0    334  4.20  4.23  2.63\n",
              "4   0.31    1      6        3   63.3   58.0    335  4.34  4.35  2.75"
            ]
          },
          "metadata": {},
          "execution_count": 6
        }
      ]
    },
    {
      "cell_type": "code",
      "metadata": {
        "id": "iLo1J-qmrT_A"
      },
      "source": [
        "from sklearn.preprocessing import StandardScaler\n",
        "for col in df:\n",
        "  sc=StandardScaler()\n",
        "  df[col]=sc.fit_transform(df[[col]])"
      ],
      "execution_count": 7,
      "outputs": []
    },
    {
      "cell_type": "code",
      "metadata": {
        "colab": {
          "base_uri": "https://localhost:8080/",
          "height": 225
        },
        "id": "-bZliJ7ur6_4",
        "outputId": "8d67a984-e0f8-4ff5-c656-2425040d45d0"
      },
      "source": [
        "df.head()"
      ],
      "execution_count": 8,
      "outputs": [
        {
          "output_type": "execute_result",
          "data": {
            "text/html": [
              "<div>\n",
              "<style scoped>\n",
              "    .dataframe tbody tr th:only-of-type {\n",
              "        vertical-align: middle;\n",
              "    }\n",
              "\n",
              "    .dataframe tbody tr th {\n",
              "        vertical-align: top;\n",
              "    }\n",
              "\n",
              "    .dataframe thead th {\n",
              "        text-align: right;\n",
              "    }\n",
              "</style>\n",
              "<table border=\"1\" class=\"dataframe\">\n",
              "  <thead>\n",
              "    <tr style=\"text-align: right;\">\n",
              "      <th></th>\n",
              "      <th>carat</th>\n",
              "      <th>cut</th>\n",
              "      <th>color</th>\n",
              "      <th>clarity</th>\n",
              "      <th>depth</th>\n",
              "      <th>table</th>\n",
              "      <th>price</th>\n",
              "      <th>x</th>\n",
              "      <th>y</th>\n",
              "      <th>z</th>\n",
              "    </tr>\n",
              "  </thead>\n",
              "  <tbody>\n",
              "    <tr>\n",
              "      <th>0</th>\n",
              "      <td>-1.198168</td>\n",
              "      <td>-0.538099</td>\n",
              "      <td>-0.937163</td>\n",
              "      <td>-0.484264</td>\n",
              "      <td>-0.174092</td>\n",
              "      <td>-1.099672</td>\n",
              "      <td>-0.904095</td>\n",
              "      <td>-1.587837</td>\n",
              "      <td>-1.536196</td>\n",
              "      <td>-1.571129</td>\n",
              "    </tr>\n",
              "    <tr>\n",
              "      <th>1</th>\n",
              "      <td>-1.240361</td>\n",
              "      <td>0.434949</td>\n",
              "      <td>-0.937163</td>\n",
              "      <td>-1.064117</td>\n",
              "      <td>-1.360738</td>\n",
              "      <td>1.585529</td>\n",
              "      <td>-0.904095</td>\n",
              "      <td>-1.641325</td>\n",
              "      <td>-1.658774</td>\n",
              "      <td>-1.741175</td>\n",
              "    </tr>\n",
              "    <tr>\n",
              "      <th>2</th>\n",
              "      <td>-1.198168</td>\n",
              "      <td>-1.511147</td>\n",
              "      <td>-0.937163</td>\n",
              "      <td>0.095589</td>\n",
              "      <td>-3.385019</td>\n",
              "      <td>3.375663</td>\n",
              "      <td>-0.903844</td>\n",
              "      <td>-1.498691</td>\n",
              "      <td>-1.457395</td>\n",
              "      <td>-1.741175</td>\n",
              "    </tr>\n",
              "    <tr>\n",
              "      <th>3</th>\n",
              "      <td>-1.071587</td>\n",
              "      <td>0.434949</td>\n",
              "      <td>1.414272</td>\n",
              "      <td>0.675442</td>\n",
              "      <td>0.454133</td>\n",
              "      <td>0.242928</td>\n",
              "      <td>-0.902090</td>\n",
              "      <td>-1.364971</td>\n",
              "      <td>-1.317305</td>\n",
              "      <td>-1.287720</td>\n",
              "    </tr>\n",
              "    <tr>\n",
              "      <th>4</th>\n",
              "      <td>-1.029394</td>\n",
              "      <td>-1.511147</td>\n",
              "      <td>2.002131</td>\n",
              "      <td>-0.484264</td>\n",
              "      <td>1.082358</td>\n",
              "      <td>0.242928</td>\n",
              "      <td>-0.901839</td>\n",
              "      <td>-1.240167</td>\n",
              "      <td>-1.212238</td>\n",
              "      <td>-1.117674</td>\n",
              "    </tr>\n",
              "  </tbody>\n",
              "</table>\n",
              "</div>"
            ],
            "text/plain": [
              "      carat       cut     color  ...         x         y         z\n",
              "0 -1.198168 -0.538099 -0.937163  ... -1.587837 -1.536196 -1.571129\n",
              "1 -1.240361  0.434949 -0.937163  ... -1.641325 -1.658774 -1.741175\n",
              "2 -1.198168 -1.511147 -0.937163  ... -1.498691 -1.457395 -1.741175\n",
              "3 -1.071587  0.434949  1.414272  ... -1.364971 -1.317305 -1.287720\n",
              "4 -1.029394 -1.511147  2.002131  ... -1.240167 -1.212238 -1.117674\n",
              "\n",
              "[5 rows x 10 columns]"
            ]
          },
          "metadata": {},
          "execution_count": 8
        }
      ]
    },
    {
      "cell_type": "code",
      "metadata": {
        "id": "0EbmQ8pWr_U_"
      },
      "source": [
        "x=df.drop([\"price\"],axis=1)"
      ],
      "execution_count": 9,
      "outputs": []
    },
    {
      "cell_type": "code",
      "metadata": {
        "colab": {
          "base_uri": "https://localhost:8080/",
          "height": 441
        },
        "id": "6SKYaRB9sR5t",
        "outputId": "912f2607-be25-422a-953e-34f74556f3d7"
      },
      "source": [
        "x"
      ],
      "execution_count": 10,
      "outputs": [
        {
          "output_type": "execute_result",
          "data": {
            "text/html": [
              "<div>\n",
              "<style scoped>\n",
              "    .dataframe tbody tr th:only-of-type {\n",
              "        vertical-align: middle;\n",
              "    }\n",
              "\n",
              "    .dataframe tbody tr th {\n",
              "        vertical-align: top;\n",
              "    }\n",
              "\n",
              "    .dataframe thead th {\n",
              "        text-align: right;\n",
              "    }\n",
              "</style>\n",
              "<table border=\"1\" class=\"dataframe\">\n",
              "  <thead>\n",
              "    <tr style=\"text-align: right;\">\n",
              "      <th></th>\n",
              "      <th>carat</th>\n",
              "      <th>cut</th>\n",
              "      <th>color</th>\n",
              "      <th>clarity</th>\n",
              "      <th>depth</th>\n",
              "      <th>table</th>\n",
              "      <th>x</th>\n",
              "      <th>y</th>\n",
              "      <th>z</th>\n",
              "    </tr>\n",
              "  </thead>\n",
              "  <tbody>\n",
              "    <tr>\n",
              "      <th>0</th>\n",
              "      <td>-1.198168</td>\n",
              "      <td>-0.538099</td>\n",
              "      <td>-0.937163</td>\n",
              "      <td>-0.484264</td>\n",
              "      <td>-0.174092</td>\n",
              "      <td>-1.099672</td>\n",
              "      <td>-1.587837</td>\n",
              "      <td>-1.536196</td>\n",
              "      <td>-1.571129</td>\n",
              "    </tr>\n",
              "    <tr>\n",
              "      <th>1</th>\n",
              "      <td>-1.240361</td>\n",
              "      <td>0.434949</td>\n",
              "      <td>-0.937163</td>\n",
              "      <td>-1.064117</td>\n",
              "      <td>-1.360738</td>\n",
              "      <td>1.585529</td>\n",
              "      <td>-1.641325</td>\n",
              "      <td>-1.658774</td>\n",
              "      <td>-1.741175</td>\n",
              "    </tr>\n",
              "    <tr>\n",
              "      <th>2</th>\n",
              "      <td>-1.198168</td>\n",
              "      <td>-1.511147</td>\n",
              "      <td>-0.937163</td>\n",
              "      <td>0.095589</td>\n",
              "      <td>-3.385019</td>\n",
              "      <td>3.375663</td>\n",
              "      <td>-1.498691</td>\n",
              "      <td>-1.457395</td>\n",
              "      <td>-1.741175</td>\n",
              "    </tr>\n",
              "    <tr>\n",
              "      <th>3</th>\n",
              "      <td>-1.071587</td>\n",
              "      <td>0.434949</td>\n",
              "      <td>1.414272</td>\n",
              "      <td>0.675442</td>\n",
              "      <td>0.454133</td>\n",
              "      <td>0.242928</td>\n",
              "      <td>-1.364971</td>\n",
              "      <td>-1.317305</td>\n",
              "      <td>-1.287720</td>\n",
              "    </tr>\n",
              "    <tr>\n",
              "      <th>4</th>\n",
              "      <td>-1.029394</td>\n",
              "      <td>-1.511147</td>\n",
              "      <td>2.002131</td>\n",
              "      <td>-0.484264</td>\n",
              "      <td>1.082358</td>\n",
              "      <td>0.242928</td>\n",
              "      <td>-1.240167</td>\n",
              "      <td>-1.212238</td>\n",
              "      <td>-1.117674</td>\n",
              "    </tr>\n",
              "    <tr>\n",
              "      <th>...</th>\n",
              "      <td>...</td>\n",
              "      <td>...</td>\n",
              "      <td>...</td>\n",
              "      <td>...</td>\n",
              "      <td>...</td>\n",
              "      <td>...</td>\n",
              "      <td>...</td>\n",
              "      <td>...</td>\n",
              "      <td>...</td>\n",
              "    </tr>\n",
              "    <tr>\n",
              "      <th>53935</th>\n",
              "      <td>-0.164427</td>\n",
              "      <td>-0.538099</td>\n",
              "      <td>-1.525021</td>\n",
              "      <td>-1.064117</td>\n",
              "      <td>-0.662711</td>\n",
              "      <td>-0.204605</td>\n",
              "      <td>0.016798</td>\n",
              "      <td>0.022304</td>\n",
              "      <td>-0.054888</td>\n",
              "    </tr>\n",
              "    <tr>\n",
              "      <th>53936</th>\n",
              "      <td>-0.164427</td>\n",
              "      <td>-1.511147</td>\n",
              "      <td>-1.525021</td>\n",
              "      <td>-1.064117</td>\n",
              "      <td>0.942753</td>\n",
              "      <td>-1.099672</td>\n",
              "      <td>-0.036690</td>\n",
              "      <td>0.013548</td>\n",
              "      <td>0.100988</td>\n",
              "    </tr>\n",
              "    <tr>\n",
              "      <th>53937</th>\n",
              "      <td>-0.206621</td>\n",
              "      <td>1.407998</td>\n",
              "      <td>-1.525021</td>\n",
              "      <td>-1.064117</td>\n",
              "      <td>0.733344</td>\n",
              "      <td>1.137995</td>\n",
              "      <td>-0.063434</td>\n",
              "      <td>-0.047741</td>\n",
              "      <td>0.030135</td>\n",
              "    </tr>\n",
              "    <tr>\n",
              "      <th>53938</th>\n",
              "      <td>0.130927</td>\n",
              "      <td>0.434949</td>\n",
              "      <td>0.826413</td>\n",
              "      <td>-0.484264</td>\n",
              "      <td>-0.523105</td>\n",
              "      <td>0.242928</td>\n",
              "      <td>0.373383</td>\n",
              "      <td>0.337506</td>\n",
              "      <td>0.285204</td>\n",
              "    </tr>\n",
              "    <tr>\n",
              "      <th>53939</th>\n",
              "      <td>-0.101137</td>\n",
              "      <td>-0.538099</td>\n",
              "      <td>-1.525021</td>\n",
              "      <td>-0.484264</td>\n",
              "      <td>0.314528</td>\n",
              "      <td>-1.099672</td>\n",
              "      <td>0.088115</td>\n",
              "      <td>0.118616</td>\n",
              "      <td>0.143499</td>\n",
              "    </tr>\n",
              "  </tbody>\n",
              "</table>\n",
              "<p>53940 rows × 9 columns</p>\n",
              "</div>"
            ],
            "text/plain": [
              "          carat       cut     color  ...         x         y         z\n",
              "0     -1.198168 -0.538099 -0.937163  ... -1.587837 -1.536196 -1.571129\n",
              "1     -1.240361  0.434949 -0.937163  ... -1.641325 -1.658774 -1.741175\n",
              "2     -1.198168 -1.511147 -0.937163  ... -1.498691 -1.457395 -1.741175\n",
              "3     -1.071587  0.434949  1.414272  ... -1.364971 -1.317305 -1.287720\n",
              "4     -1.029394 -1.511147  2.002131  ... -1.240167 -1.212238 -1.117674\n",
              "...         ...       ...       ...  ...       ...       ...       ...\n",
              "53935 -0.164427 -0.538099 -1.525021  ...  0.016798  0.022304 -0.054888\n",
              "53936 -0.164427 -1.511147 -1.525021  ... -0.036690  0.013548  0.100988\n",
              "53937 -0.206621  1.407998 -1.525021  ... -0.063434 -0.047741  0.030135\n",
              "53938  0.130927  0.434949  0.826413  ...  0.373383  0.337506  0.285204\n",
              "53939 -0.101137 -0.538099 -1.525021  ...  0.088115  0.118616  0.143499\n",
              "\n",
              "[53940 rows x 9 columns]"
            ]
          },
          "metadata": {},
          "execution_count": 10
        }
      ]
    },
    {
      "cell_type": "code",
      "metadata": {
        "id": "BuSIoQHxsVuW"
      },
      "source": [
        "y=df[\"price\"]"
      ],
      "execution_count": 11,
      "outputs": []
    },
    {
      "cell_type": "code",
      "metadata": {
        "colab": {
          "base_uri": "https://localhost:8080/"
        },
        "id": "p_NTAhkMsefO",
        "outputId": "6dba37f2-25d9-4c47-f14c-6692715e710f"
      },
      "source": [
        "y"
      ],
      "execution_count": 12,
      "outputs": [
        {
          "output_type": "execute_result",
          "data": {
            "text/plain": [
              "0       -0.904095\n",
              "1       -0.904095\n",
              "2       -0.903844\n",
              "3       -0.902090\n",
              "4       -0.901839\n",
              "           ...   \n",
              "53935   -0.294731\n",
              "53936   -0.294731\n",
              "53937   -0.294731\n",
              "53938   -0.294731\n",
              "53939   -0.294731\n",
              "Name: price, Length: 53940, dtype: float64"
            ]
          },
          "metadata": {},
          "execution_count": 12
        }
      ]
    },
    {
      "cell_type": "code",
      "metadata": {
        "id": "9Oo-f34nsgnF"
      },
      "source": [
        "xtrain,xtest,ytrain,ytest=train_test_split(x,y,test_size=0.2,random_state=1)"
      ],
      "execution_count": 13,
      "outputs": []
    },
    {
      "cell_type": "code",
      "metadata": {
        "colab": {
          "base_uri": "https://localhost:8080/"
        },
        "id": "_vRMmQiNst7u",
        "outputId": "f524da09-cc91-4461-c748-5372a2044613"
      },
      "source": [
        "xtrain.shape"
      ],
      "execution_count": 14,
      "outputs": [
        {
          "output_type": "execute_result",
          "data": {
            "text/plain": [
              "(43152, 9)"
            ]
          },
          "metadata": {},
          "execution_count": 14
        }
      ]
    },
    {
      "cell_type": "code",
      "metadata": {
        "id": "ialza_17s1-C"
      },
      "source": [
        "model = tf.keras.Sequential([\n",
        "     tf.keras.layers.Dense(1, input_dim=9)\n",
        "])"
      ],
      "execution_count": 17,
      "outputs": []
    },
    {
      "cell_type": "code",
      "metadata": {
        "id": "xYQJOauItvxm"
      },
      "source": [
        "model.compile(optimizer=\"sgd\",loss=\"mse\")"
      ],
      "execution_count": 19,
      "outputs": []
    },
    {
      "cell_type": "code",
      "metadata": {
        "colab": {
          "base_uri": "https://localhost:8080/"
        },
        "id": "TEMLzZ6ttRQl",
        "outputId": "41f6fd0a-78e9-4130-c530-85f7a51919e2"
      },
      "source": [
        "trained_model=model.fit(xtrain,ytrain,epochs=50,batch_size=10)"
      ],
      "execution_count": 20,
      "outputs": [
        {
          "output_type": "stream",
          "name": "stdout",
          "text": [
            "Epoch 1/50\n",
            "4316/4316 [==============================] - 5s 1ms/step - loss: 0.1521\n",
            "Epoch 2/50\n",
            "4316/4316 [==============================] - 4s 966us/step - loss: 0.1210\n",
            "Epoch 3/50\n",
            "4316/4316 [==============================] - 4s 1ms/step - loss: 0.1208\n",
            "Epoch 4/50\n",
            "4316/4316 [==============================] - 4s 939us/step - loss: 0.1193\n",
            "Epoch 5/50\n",
            "4316/4316 [==============================] - 4s 923us/step - loss: 0.1189\n",
            "Epoch 6/50\n",
            "4316/4316 [==============================] - 4s 907us/step - loss: 0.1186\n",
            "Epoch 7/50\n",
            "4316/4316 [==============================] - 4s 947us/step - loss: 0.1192\n",
            "Epoch 8/50\n",
            "4316/4316 [==============================] - 4s 980us/step - loss: 0.1187\n",
            "Epoch 9/50\n",
            "4316/4316 [==============================] - 5s 1ms/step - loss: 0.1191\n",
            "Epoch 10/50\n",
            "4316/4316 [==============================] - 5s 1ms/step - loss: 0.1187\n",
            "Epoch 11/50\n",
            "4316/4316 [==============================] - 4s 987us/step - loss: 0.1190\n",
            "Epoch 12/50\n",
            "4316/4316 [==============================] - 4s 951us/step - loss: 0.1189\n",
            "Epoch 13/50\n",
            "4316/4316 [==============================] - 4s 956us/step - loss: 0.1191\n",
            "Epoch 14/50\n",
            "4316/4316 [==============================] - 4s 964us/step - loss: 0.1192\n",
            "Epoch 15/50\n",
            "4316/4316 [==============================] - 4s 945us/step - loss: 0.1192\n",
            "Epoch 16/50\n",
            "4316/4316 [==============================] - 4s 970us/step - loss: 0.1185\n",
            "Epoch 17/50\n",
            "4316/4316 [==============================] - 4s 980us/step - loss: 0.1208\n",
            "Epoch 18/50\n",
            "4316/4316 [==============================] - 4s 1ms/step - loss: 0.1196\n",
            "Epoch 19/50\n",
            "4316/4316 [==============================] - 4s 1ms/step - loss: 0.1190\n",
            "Epoch 20/50\n",
            "4316/4316 [==============================] - 4s 928us/step - loss: 0.1188\n",
            "Epoch 21/50\n",
            "4316/4316 [==============================] - 4s 937us/step - loss: 0.1191\n",
            "Epoch 22/50\n",
            "4316/4316 [==============================] - 4s 956us/step - loss: 0.1189\n",
            "Epoch 23/50\n",
            "4316/4316 [==============================] - 4s 1ms/step - loss: 0.1188\n",
            "Epoch 24/50\n",
            "4316/4316 [==============================] - 4s 990us/step - loss: 0.1187\n",
            "Epoch 25/50\n",
            "4316/4316 [==============================] - 4s 952us/step - loss: 0.1192\n",
            "Epoch 26/50\n",
            "4316/4316 [==============================] - 4s 981us/step - loss: 0.1187\n",
            "Epoch 27/50\n",
            "4316/4316 [==============================] - 4s 981us/step - loss: 0.1186\n",
            "Epoch 28/50\n",
            "4316/4316 [==============================] - 4s 910us/step - loss: 0.1192\n",
            "Epoch 29/50\n",
            "4316/4316 [==============================] - 4s 970us/step - loss: 0.1189\n",
            "Epoch 30/50\n",
            "4316/4316 [==============================] - 4s 932us/step - loss: 0.1188\n",
            "Epoch 31/50\n",
            "4316/4316 [==============================] - 4s 986us/step - loss: 0.1199\n",
            "Epoch 32/50\n",
            "4316/4316 [==============================] - 4s 992us/step - loss: 0.1192\n",
            "Epoch 33/50\n",
            "4316/4316 [==============================] - 4s 931us/step - loss: 0.1189\n",
            "Epoch 34/50\n",
            "4316/4316 [==============================] - 4s 989us/step - loss: 0.1192\n",
            "Epoch 35/50\n",
            "4316/4316 [==============================] - 4s 978us/step - loss: 0.1192\n",
            "Epoch 36/50\n",
            "4316/4316 [==============================] - 4s 992us/step - loss: 0.1193\n",
            "Epoch 37/50\n",
            "4316/4316 [==============================] - 4s 952us/step - loss: 0.1189\n",
            "Epoch 38/50\n",
            "4316/4316 [==============================] - 4s 1ms/step - loss: 0.1186\n",
            "Epoch 39/50\n",
            "4316/4316 [==============================] - 4s 1ms/step - loss: 0.1192\n",
            "Epoch 40/50\n",
            "4316/4316 [==============================] - 4s 965us/step - loss: 0.1204\n",
            "Epoch 41/50\n",
            "4316/4316 [==============================] - 4s 956us/step - loss: 0.1193\n",
            "Epoch 42/50\n",
            "4316/4316 [==============================] - 4s 979us/step - loss: 0.1192\n",
            "Epoch 43/50\n",
            "4316/4316 [==============================] - 4s 940us/step - loss: 0.1187\n",
            "Epoch 44/50\n",
            "4316/4316 [==============================] - 4s 921us/step - loss: 0.1187\n",
            "Epoch 45/50\n",
            "4316/4316 [==============================] - 4s 959us/step - loss: 0.1186\n",
            "Epoch 46/50\n",
            "4316/4316 [==============================] - 4s 990us/step - loss: 0.1189\n",
            "Epoch 47/50\n",
            "4316/4316 [==============================] - 4s 978us/step - loss: 0.1193\n",
            "Epoch 48/50\n",
            "4316/4316 [==============================] - 4s 1ms/step - loss: 0.1187\n",
            "Epoch 49/50\n",
            "4316/4316 [==============================] - 4s 981us/step - loss: 0.1201\n",
            "Epoch 50/50\n",
            "4316/4316 [==============================] - 4s 934us/step - loss: 0.1185\n"
          ]
        }
      ]
    },
    {
      "cell_type": "code",
      "metadata": {
        "colab": {
          "base_uri": "https://localhost:8080/",
          "height": 283
        },
        "id": "yKp0-qaithrU",
        "outputId": "972a0c3a-f90f-46ec-cfaf-0f07f3f357db"
      },
      "source": [
        "plt.plot(trained_model.history['loss'])"
      ],
      "execution_count": 21,
      "outputs": [
        {
          "output_type": "execute_result",
          "data": {
            "text/plain": [
              "[<matplotlib.lines.Line2D at 0x7faf2bc0a3d0>]"
            ]
          },
          "metadata": {},
          "execution_count": 21
        },
        {
          "output_type": "display_data",
          "data": {
            "image/png": "[encoded data removed]",
            "text/plain": [
              "<Figure size 432x288 with 1 Axes>"
            ]
          },
          "metadata": {
            "needs_background": "light"
          }
        }
      ]
    },
    {
      "cell_type": "code",
      "metadata": {
        "id": "ZvBrA6xvuafP"
      },
      "source": [
        "ypred=model.predict(xtest)"
      ],
      "execution_count": 22,
      "outputs": []
    },
    {
      "cell_type": "code",
      "metadata": {
        "colab": {
          "base_uri": "https://localhost:8080/"
        },
        "id": "XifcQZwjvFpR",
        "outputId": "f0eb35c8-99cc-4eab-b991-b5bf19b5213f"
      },
      "source": [
        "ypred"
      ],
      "execution_count": 23,
      "outputs": [
        {
          "output_type": "execute_result",
          "data": {
            "text/plain": [
              "array([[-1.0549474 ],\n",
              "       [ 0.68992627],\n",
              "       [-0.21785113],\n",
              "       ...,\n",
              "       [-0.18220642],\n",
              "       [ 0.59439224],\n",
              "       [-0.64672405]], dtype=float32)"
            ]
          },
          "metadata": {},
          "execution_count": 23
        }
      ]
    },
    {
      "cell_type": "code",
      "metadata": {
        "colab": {
          "base_uri": "https://localhost:8080/"
        },
        "id": "s9KbpHbevJ30",
        "outputId": "303a65bd-bb5d-4593-af23-d9bee7f30fa3"
      },
      "source": [
        "from sklearn.metrics import r2_score, mean_squared_error, mean_absolute_error\n",
        "print(f\"R squared: {r2_score(ytest,ypred)}\")\n",
        "print(f\"MSE:{mean_squared_error(ytest,ypred)}\")\n",
        "print(f\"RMSE:- {np.sqrt(mean_squared_error(ytest,ypred))}\")\n",
        "print(f\"MAE:-{mean_absolute_error(ytest,ypred)}\")"
      ],
      "execution_count": 25,
      "outputs": [
        {
          "output_type": "stream",
          "name": "stdout",
          "text": [
            "R squared: 0.885138152755632\n",
            "MSE:0.11214229950189081\n",
            "RMSE:- 0.33487654367227754\n",
            "MAE:-0.21358496322078516\n"
          ]
        }
      ]
    },
    {
      "cell_type": "code",
      "metadata": {
        "id": "uqo7cc30v1jH"
      },
      "source": [
        ""
      ],
      "execution_count": null,
      "outputs": []
    }
  ]
}